{
  "nbformat": 4,
  "nbformat_minor": 0,
  "metadata": {
    "colab": {
      "name": "AtividadeOperadoresRelacionais.ipynb",
      "provenance": [],
      "collapsed_sections": [],
      "authorship_tag": "ABX9TyO2dUmpvJIz528jmTqiB5hc",
      "include_colab_link": true
    },
    "kernelspec": {
      "name": "python3",
      "display_name": "Python 3"
    },
    "language_info": {
      "name": "python"
    }
  },
  "cells": [
    {
      "cell_type": "markdown",
      "metadata": {
        "id": "view-in-github",
        "colab_type": "text"
      },
      "source": [
        "<a href=\"https://colab.research.google.com/github/RodrigoItachi/Repositorio_T_Entrega_Python/blob/rodrigo_tarde/AtividadeOperadoresRelacionais.ipynb\" target=\"_parent\"><img src=\"https://colab.research.google.com/assets/colab-badge.svg\" alt=\"Open In Colab\"/></a>"
      ]
    },
    {
      "cell_type": "code",
      "execution_count": 7,
      "metadata": {
        "colab": {
          "base_uri": "https://localhost:8080/"
        },
        "id": "tIxcN5nxLZmn",
        "outputId": "0813d739-054d-4903-a614-6f3251f52456"
      },
      "outputs": [
        {
          "output_type": "stream",
          "name": "stdout",
          "text": [
            "a == b False\n"
          ]
        }
      ],
      "source": [
        "a = 1\n",
        "b = 5\n",
        "c = 2\n",
        "d = 1\n",
        "\n",
        "\n",
        "print(\"a == b\", a == b)"
      ]
    }
  ]
}