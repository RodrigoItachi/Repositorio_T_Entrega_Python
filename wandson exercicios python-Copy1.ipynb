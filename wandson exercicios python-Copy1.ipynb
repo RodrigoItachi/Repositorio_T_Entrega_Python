{
 "cells": [
  {
   "cell_type": "code",
   "execution_count": 1,
   "id": "86dafa99",
   "metadata": {},
   "outputs": [
    {
     "name": "stdout",
     "output_type": "stream",
     "text": [
      "\t ----Conversão de medida---- \n",
      "Informe o valor em metros: 100\n",
      "O valor em centimetros é : 10000\n"
     ]
    }
   ],
   "source": [
    "print('\\t ----Conversão de medida---- ')\n",
    "metros = int(input('Informe o valor em metros: '))\n",
    "print ('O valor em centimetros é :', metros * 100)"
   ]
  },
  {
   "cell_type": "code",
   "execution_count": 2,
   "id": "227b1683",
   "metadata": {},
   "outputs": [
    {
     "name": "stdout",
     "output_type": "stream",
     "text": [
      "\t ----Tabuada---- \n",
      "Informe o numero para ver a tabuada: 10\n",
      "\n",
      " Tabuada de 10 :\n",
      "10 X 1 = 10\n",
      "10 X 2 = 20\n",
      "10 X 3 = 30\n",
      "10 X 4 = 40\n",
      "10 X 5 = 50\n",
      "10 X 6 = 60\n",
      "10 X 7 = 70\n",
      "10 X 8 = 80\n",
      "10 X 9 = 90\n",
      "10 X 10 = 100\n"
     ]
    }
   ],
   "source": [
    "print('\\t ----Tabuada---- ')\n",
    "numero = int(input('Informe o numero para ver a tabuada: '))\n",
    "\n",
    "print('\\n Tabuada de', numero, ':')\n",
    "\n",
    "for i in range(1, 11):\n",
    "    print(numero, 'X', i, '=', (numero * i))"
   ]
  },
  {
   "cell_type": "code",
   "execution_count": 3,
   "id": "e585c531",
   "metadata": {},
   "outputs": [
    {
     "name": "stdout",
     "output_type": "stream",
     "text": [
      "\t ----Cálculo da média aritmética---- \n",
      "Informe a primeira nota: 1\n",
      "Informe a segunda nota: 5\n",
      "Média Aritmética= 3.0\n"
     ]
    }
   ],
   "source": [
    "print('\\t ----Cálculo da média aritmética---- ')\n",
    "\n",
    "nota1 = int(input('Informe a primeira nota: '))\n",
    "nota2 = int(input('Informe a segunda nota: '))\n",
    "\n",
    "media = (nota1+ nota2)/2\n",
    "\n",
    "print('Média Aritmética' '=', media)"
   ]
  },
  {
   "cell_type": "code",
   "execution_count": 4,
   "id": "e48442c4",
   "metadata": {},
   "outputs": [
    {
     "name": "stdout",
     "output_type": "stream",
     "text": [
      "\t ----Cálculo do novo salário ---- \n",
      "Informe o salario atual: 100\n",
      "Salario com reajuste= 115.0\n"
     ]
    }
   ],
   "source": [
    "print('\\t ----Cálculo do novo salário ---- ')\n",
    "salario_atual = float(input('Informe o salario atual: '))\n",
    "\n",
    "if (salario_atual<500):\n",
    "    salario_novo=salario_atual+(salario_atual*0.15)\n",
    "    print('Salario com reajuste' '=', salario_novo)\n",
    "\n",
    "if ((salario_atual>=500) and (salario_atual <=1000)):\n",
    "    salario_novo=salario_atual+(salario_atual*0.10)\n",
    "    print('Salario com reajuste' '=', salario_novo)\n",
    "\n",
    "if (salario_atual>1000):\n",
    "    salario_novo=salario_atual+(salario_atual*0.05)\n",
    "    print('Salario com reajuste' '=', salario_novo)\n",
    "    "
   ]
  },
  {
   "cell_type": "code",
   "execution_count": 5,
   "id": "a415d054",
   "metadata": {},
   "outputs": [
    {
     "name": "stdout",
     "output_type": "stream",
     "text": [
      "7\n",
      "14\n",
      "21\n",
      "28\n",
      "42\n",
      "49\n",
      "56\n",
      "63\n",
      "77\n",
      "84\n",
      "91\n",
      "98\n"
     ]
    }
   ],
   "source": [
    "for num in range(5, 100):\n",
    "    if (num % 7 == 0 and num % 5 != 0):\n",
    "        print(num)\n",
    "        "
   ]
  },
  {
   "cell_type": "code",
   "execution_count": 6,
   "id": "125a0877",
   "metadata": {},
   "outputs": [
    {
     "name": "stdout",
     "output_type": "stream",
     "text": [
      "Por favor, insira um número: 5\n",
      "A soma é =  15\n"
     ]
    }
   ],
   "source": [
    "soma_numeros = 0\n",
    "numero = int(input(\"Por favor, insira um número: \"))\n",
    "for i in range(1, numero + 1, 1):\n",
    "    soma_numeros += i\n",
    "print(\"A soma é = \", soma_numeros)"
   ]
  },
  {
   "cell_type": "code",
   "execution_count": 7,
   "id": "d9f500df",
   "metadata": {},
   "outputs": [
    {
     "name": "stdout",
     "output_type": "stream",
     "text": [
      "\t ---- A dança dos números---- \n",
      "Informe um número para brincar: 9\n",
      "É um número positivo\n"
     ]
    }
   ],
   "source": [
    "print('\\t ---- A dança dos números---- ')\n",
    "x = int(input(\"Informe um número para brincar: \"))\n",
    "if x < 0:\n",
    "        print('É um número negativo ')\n",
    "elif x == 0:\n",
    "        print('É um número neutro')\n",
    "elif x > 0:\n",
    "        print('É um número positivo')\n"
   ]
  },
  {
   "cell_type": "code",
   "execution_count": null,
   "id": "3e899841",
   "metadata": {},
   "outputs": [],
   "source": []
  }
 ],
 "metadata": {
  "kernelspec": {
   "display_name": "Python 3 (ipykernel)",
   "language": "python",
   "name": "python3"
  },
  "language_info": {
   "codemirror_mode": {
    "name": "ipython",
    "version": 3
   },
   "file_extension": ".py",
   "mimetype": "text/x-python",
   "name": "python",
   "nbconvert_exporter": "python",
   "pygments_lexer": "ipython3",
   "version": "3.9.7"
  }
 },
 "nbformat": 4,
 "nbformat_minor": 5
}
