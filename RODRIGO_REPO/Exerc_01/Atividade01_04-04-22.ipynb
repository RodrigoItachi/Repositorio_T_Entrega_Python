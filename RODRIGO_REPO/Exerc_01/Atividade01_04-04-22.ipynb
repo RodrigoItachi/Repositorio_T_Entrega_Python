{
 "cells": [
  {
   "cell_type": "code",
   "execution_count": 3,
   "id": "6819b4fe",
   "metadata": {},
   "outputs": [
    {
     "name": "stdout",
     "output_type": "stream",
     "text": [
      "610\n"
     ]
    }
   ],
   "source": [
    "print(10+20*30)"
   ]
  },
  {
   "cell_type": "code",
   "execution_count": 4,
   "id": "16235e24",
   "metadata": {},
   "outputs": [
    {
     "name": "stdout",
     "output_type": "stream",
     "text": [
      "0.5333333333333333\n"
     ]
    }
   ],
   "source": [
    "print(4**2/30)"
   ]
  },
  {
   "cell_type": "code",
   "execution_count": 5,
   "id": "6f0b38dd",
   "metadata": {},
   "outputs": [
    {
     "name": "stdout",
     "output_type": "stream",
     "text": [
      "575\n"
     ]
    }
   ],
   "source": [
    "print((94+2)*6-1)"
   ]
  },
  {
   "cell_type": "code",
   "execution_count": 6,
   "id": "a55635f4",
   "metadata": {},
   "outputs": [
    {
     "name": "stdout",
     "output_type": "stream",
     "text": [
      "107\n"
     ]
    }
   ],
   "source": [
    "print(((10+8)*(10-4))-1)"
   ]
  },
  {
   "cell_type": "code",
   "execution_count": 8,
   "id": "b91ffef4",
   "metadata": {},
   "outputs": [
    {
     "name": "stdout",
     "output_type": "stream",
     "text": [
      "2980947985820.5586\n"
     ]
    }
   ],
   "source": [
    "calculo = ((1500 + (100-9/10))*9)**3\n",
    "print(calculo)"
   ]
  },
  {
   "cell_type": "code",
   "execution_count": 2,
   "id": "2fa3b888",
   "metadata": {},
   "outputs": [
    {
     "name": "stdout",
     "output_type": "stream",
     "text": [
      "1575.0\n"
     ]
    }
   ],
   "source": [
    "salario = 1500\n",
    "aumento = 5\n",
    "print(salario + (salario * aumento / 100))"
   ]
  },
  {
   "cell_type": "code",
   "execution_count": 9,
   "id": "0ddaf6b1",
   "metadata": {},
   "outputs": [
    {
     "name": "stdout",
     "output_type": "stream",
     "text": [
      "Rodrigo Barbosa de Sousa\n"
     ]
    }
   ],
   "source": [
    "# Faça um programa que exiba seu nome na tela.\n",
    "nome = \"Rodrigo Barbosa de Sousa\"\n",
    "print(nome)"
   ]
  },
  {
   "cell_type": "code",
   "execution_count": 2,
   "id": "a27b26be",
   "metadata": {},
   "outputs": [
    {
     "name": "stdout",
     "output_type": "stream",
     "text": [
      "90\n"
     ]
    }
   ],
   "source": [
    "# Escreva um programa que exiba o resultado de \n",
    "# 2a × 3b, onde a vale 3 e b vale 5.\n",
    "\n",
    "a = 3\n",
    "b = 5\n",
    "\n",
    "resultado = (2*a)*(3*b)\n",
    "\n",
    "print(resultado)"
   ]
  },
  {
   "cell_type": "code",
   "execution_count": 8,
   "id": "b713a25a",
   "metadata": {},
   "outputs": [
    {
     "name": "stdout",
     "output_type": "stream",
     "text": [
      "10\n"
     ]
    }
   ],
   "source": [
    "# Modifique o primeiro programa abaixo, de forma a calcular a soma de três\n",
    "# variáveis.\n",
    "\n",
    "a = 3\n",
    "b = 5\n",
    "c = 2\n",
    "\n",
    "print(a + b + c)"
   ]
  },
  {
   "cell_type": "code",
   "execution_count": 10,
   "id": "52816113",
   "metadata": {},
   "outputs": [
    {
     "name": "stdout",
     "output_type": "stream",
     "text": [
      "862.5\n"
     ]
    }
   ],
   "source": [
    "# Modifique o programa abaixo, de forma que ele calcule um\n",
    "# aumento de 15% para um salário de R$ 750.\n",
    "salario = 750\n",
    "aumento = 15\n",
    "print(salario + (salario * aumento / 100))"
   ]
  },
  {
   "cell_type": "code",
   "execution_count": 12,
   "id": "266de979",
   "metadata": {},
   "outputs": [
    {
     "name": "stdout",
     "output_type": "stream",
     "text": [
      "1000\n"
     ]
    }
   ],
   "source": [
    "# Faça um programa em linguagem Python que converta metros para\n",
    "# centímetros.\n",
    "metros = 10\n",
    "centimetros = metros * 100\n",
    "\n",
    "print(centimetros)"
   ]
  },
  {
   "cell_type": "code",
   "execution_count": 9,
   "id": "768496c6",
   "metadata": {},
   "outputs": [
    {
     "name": "stdout",
     "output_type": "stream",
     "text": [
      "Digite o valor a ser multiplicado: 3\n",
      "3\n",
      "6\n",
      "9\n",
      "12\n",
      "15\n",
      "18\n",
      "21\n",
      "24\n",
      "27\n",
      "30\n"
     ]
    }
   ],
   "source": [
    "# Faça um programa em Python que leia um valor inteiro e mostre a tabuada de 1\n",
    "# a 10 do valor lido. (Não usar laço de repetição)\n",
    "numero = int(input(\"Digite o valor a ser multiplicado: \"))\n",
    "print(numero * 1)\n",
    "print(numero * 2)\n",
    "print(numero * 3)\n",
    "print(numero * 4)\n",
    "print(numero * 5)\n",
    "print(numero * 6)\n",
    "print(numero * 7)\n",
    "print(numero * 8)\n",
    "print(numero * 9)\n",
    "print(numero * 10)"
   ]
  },
  {
   "cell_type": "code",
   "execution_count": 11,
   "id": "6031735f",
   "metadata": {},
   "outputs": [
    {
     "name": "stdout",
     "output_type": "stream",
     "text": [
      "Digite a 1ª nota: 3\n",
      "Digite a 2ª nota: 3\n",
      "3.0\n"
     ]
    }
   ],
   "source": [
    "# Faça um programa em linguagem Python que receba duas notas e calcule a\n",
    "# média aritmética e mostre o resultado.\n",
    "\n",
    "nota1 = int(input(\"Digite a 1ª nota: \"))\n",
    "nota2 = int(input(\"Digite a 2ª nota: \"))\n",
    "\n",
    "media = (nota1 + nota2) / 2\n",
    "\n",
    "print(media)"
   ]
  },
  {
   "cell_type": "code",
   "execution_count": 18,
   "id": "0e711641",
   "metadata": {},
   "outputs": [
    {
     "name": "stdout",
     "output_type": "stream",
     "text": [
      "Informe o salário: 1000\n",
      "reajuste a 5%:  1050.0\n",
      "1100.0\n",
      "1150.0\n"
     ]
    }
   ],
   "source": [
    "# Fazer um programa que ao receber o salário atual de um funcionário, calcule o\n",
    "# valor do novo salário reajustado de acordo com as 3 situações: salário reajustado em 15%,\n",
    "# salario reajustado em 10% e salário reajustado em 5%.\n",
    "\n",
    "\n",
    "salario = float(input(\"Informe o salário: \"))\n",
    "\n",
    "print(\"reajuste a 05%: \", salario + (salario * 0.05))\n",
    "print(\"reajuste a 10%: \",salario + (salario * 0.10))\n",
    "print(\"reajuste a 15%: \",salario + (salario * 0.15))"
   ]
  },
  {
   "cell_type": "code",
   "execution_count": null,
   "id": "e97d25e7",
   "metadata": {},
   "outputs": [],
   "source": []
  }
 ],
 "metadata": {
  "kernelspec": {
   "display_name": "Python 3 (ipykernel)",
   "language": "python",
   "name": "python3"
  },
  "language_info": {
   "codemirror_mode": {
    "name": "ipython",
    "version": 3
   },
   "file_extension": ".py",
   "mimetype": "text/x-python",
   "name": "python",
   "nbconvert_exporter": "python",
   "pygments_lexer": "ipython3",
   "version": "3.9.7"
  }
 },
 "nbformat": 4,
 "nbformat_minor": 5
}
