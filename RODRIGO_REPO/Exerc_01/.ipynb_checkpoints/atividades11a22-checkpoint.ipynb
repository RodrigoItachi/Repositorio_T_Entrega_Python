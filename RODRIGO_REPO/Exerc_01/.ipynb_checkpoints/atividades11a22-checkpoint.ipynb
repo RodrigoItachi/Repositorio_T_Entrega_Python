{
 "cells": [
  {
   "cell_type": "code",
   "execution_count": 3,
   "id": "1c45e48d",
   "metadata": {},
   "outputs": [
    {
     "name": "stdout",
     "output_type": "stream",
     "text": [
      "Digite o primeiro valor: 3\n",
      "Digite o segundo valor: 3\n",
      "Soma:  3  +  3  =  6\n"
     ]
    }
   ],
   "source": [
    "# Exercício 5.11: Faça um programa que receba dois números e exiba o resultado da sua soma.\n",
    "\n",
    "num1 = int(input(\"Digite o primeiro valor: \"))\n",
    "num2 = int(input(\"Digite o segundo valor: \"))\n",
    "print(\"Soma: \",num1,\" + \",num2,\" = \",(num1+num2))"
   ]
  },
  {
   "cell_type": "code",
   "execution_count": 4,
   "id": "c4b7f4a5",
   "metadata": {},
   "outputs": [
    {
     "name": "stdout",
     "output_type": "stream",
     "text": [
      "Digite o primeiro valor: 3\n",
      "Digite o segundo valor: 3\n",
      "3  +  3  =  6\n",
      "3  -  3  =  0\n",
      "3  *  3  =  9\n",
      "3  /  3  =  1.0\n"
     ]
    }
   ],
   "source": [
    "# Exercício 5.12: Faça um programa que receba dois números e ao final mostre a soma,\n",
    "# subtração, multiplicação e a divisão dos números lidos.\n",
    "\n",
    "num1 = int(input(\"Digite o primeiro valor: \"))\n",
    "num2 = int(input(\"Digite o segundo valor: \"))\n",
    "print(num1,\" + \",num2,\" = \",(num1+num2))\n",
    "print(num1,\" - \",num2,\" = \",(num1-num2))\n",
    "print(num1,\" * \",num2,\" = \",(num1*num2))\n",
    "print(num1,\" / \",num2,\" = \",(num1/num2))"
   ]
  },
  {
   "cell_type": "code",
   "execution_count": 8,
   "id": "7d2c6207",
   "metadata": {},
   "outputs": [
    {
     "name": "stdout",
     "output_type": "stream",
     "text": [
      "Digite a distância a percorrer: 1500\n",
      "Digite a quantidade de combustível: 100\n",
      "15.0\n"
     ]
    }
   ],
   "source": [
    "# Exercício 5.13: Escrever um programa para determinar o consumo médio de um automóvel\n",
    "# sendo fornecida a distância total percorrida pelo automóvel e o total de combustível gasto.\n",
    "\n",
    "distancia = float(input(\"Digite a distância a percorrer: \"))\n",
    "combustivel = float(input(\"Digite a quantidade de combustível: \"))\n",
    "\n",
    "consumoMedio = distancia / combustivel\n",
    "\n",
    "print(consumoMedio)\n"
   ]
  },
  {
   "cell_type": "code",
   "execution_count": 11,
   "id": "2e7afad2",
   "metadata": {},
   "outputs": [
    {
     "name": "stdout",
     "output_type": "stream",
     "text": [
      "######################################\n",
      "Digite o nome do vendedor: Rodrigo\n",
      "Digite o salário: 1900\n",
      "Digite o valor total das vendas do mês: 5000\n",
      "######################################\n",
      "Vendedor:  Rodrigo\n",
      "Salário + comissão:  2650.0\n",
      "######################################\n"
     ]
    }
   ],
   "source": [
    "# Exercício 5.14: Escrever um programa que leia o nome de um vendedor, o seu salário fixo e o\n",
    "# total de vendas efetuadas por ele no mês (em dinheiro). Sabendo que este vendedor ganha\n",
    "# 15% de comissão sobre suas vendas efetuadas, informar o seu nome, o salário fixo e salário\n",
    "# no final do mês.\n",
    "\n",
    "print(\"####################################################\")\n",
    "nomeVendedor = input(\"# Digite o nome do vendedor: \")\n",
    "salario = float(input(\"# Digite o salário: \"))\n",
    "valorTotalVendas = float(input(\"# Digite o valor total das vendas do mês: \"))\n",
    "taxaComissao = 0.15\n",
    "\n",
    "salarioFinal = salario + (taxaComissao * valorTotalVendas)\n",
    "\n",
    "print(\"####################################################\")\n",
    "print(\"# Vendedor: \", nomeVendedor)\n",
    "print(\"# Salário + comissão: \", salarioFinal)\n",
    "print(\"####################################################\")"
   ]
  },
  {
   "cell_type": "code",
   "execution_count": null,
   "id": "81169821",
   "metadata": {},
   "outputs": [],
   "source": []
  }
 ],
 "metadata": {
  "kernelspec": {
   "display_name": "Python 3 (ipykernel)",
   "language": "python",
   "name": "python3"
  },
  "language_info": {
   "codemirror_mode": {
    "name": "ipython",
    "version": 3
   },
   "file_extension": ".py",
   "mimetype": "text/x-python",
   "name": "python",
   "nbconvert_exporter": "python",
   "pygments_lexer": "ipython3",
   "version": "3.9.7"
  }
 },
 "nbformat": 4,
 "nbformat_minor": 5
}
