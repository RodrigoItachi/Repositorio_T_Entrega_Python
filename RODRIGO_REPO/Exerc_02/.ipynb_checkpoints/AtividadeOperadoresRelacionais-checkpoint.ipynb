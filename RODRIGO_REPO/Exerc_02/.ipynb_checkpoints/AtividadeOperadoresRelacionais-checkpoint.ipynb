{
 "cells": [
  {
   "cell_type": "code",
   "execution_count": 1,
   "id": "10cf5edc",
   "metadata": {},
   "outputs": [
    {
     "name": "stdout",
     "output_type": "stream",
     "text": [
      "a == b ?  False\n",
      "a > b ?  False\n",
      "a < b ?  True\n",
      "a == d ?  False\n",
      "b >= a ?  False\n",
      "c <= b ?  True\n",
      "d != a ?  False\n",
      "d != b ?  True\n"
     ]
    }
   ],
   "source": [
    "a = 1\n",
    "b = 5\n",
    "c = 2\n",
    "d = 1\n",
    "\n",
    "print(\"a == b ? \", a == b)\n",
    "print(\"a > b ? \", a > b)\n",
    "print(\"a < b ? \", a < b)\n",
    "print(\"a == d ? \", a == b)\n",
    "print(\"b >= a ? \", a >= b)\n",
    "print(\"c <= b ? \", c <= b)\n",
    "print(\"d != a ? \", d != a)\n",
    "print(\"d != b ? \", d != b)"
   ]
  },
  {
   "cell_type": "code",
   "execution_count": null,
   "id": "8dcfad23",
   "metadata": {},
   "outputs": [],
   "source": []
  }
 ],
 "metadata": {
  "kernelspec": {
   "display_name": "Python 3 (ipykernel)",
   "language": "python",
   "name": "python3"
  },
  "language_info": {
   "codemirror_mode": {
    "name": "ipython",
    "version": 3
   },
   "file_extension": ".py",
   "mimetype": "text/x-python",
   "name": "python",
   "nbconvert_exporter": "python",
   "pygments_lexer": "ipython3",
   "version": "3.9.7"
  }
 },
 "nbformat": 4,
 "nbformat_minor": 5
}
