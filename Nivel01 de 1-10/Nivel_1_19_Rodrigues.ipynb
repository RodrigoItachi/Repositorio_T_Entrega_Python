{
  "cells": [
    {
      "cell_type": "markdown",
      "metadata": {
        "id": "view-in-github",
        "colab_type": "text"
      },
      "source": [
        "<a href=\"https://colab.research.google.com/github/Rodrigues33/Repositorio_T_Entrega_Python/blob/main/Nivel_1_19_Rodrigues.ipynb\" target=\"_parent\"><img src=\"https://colab.research.google.com/assets/colab-badge.svg\" alt=\"Open In Colab\"/></a>"
      ]
    },
    {
      "cell_type": "code",
      "execution_count": null,
      "id": "f4b5e4dc",
      "metadata": {
        "id": "f4b5e4dc",
        "outputId": "c70cb26c-f406-431a-c802-1148caf18e09"
      },
      "outputs": [
        {
          "name": "stdout",
          "output_type": "stream",
          "text": [
            "Olá Tudo, Tudo bem\n"
          ]
        }
      ],
      "source": [
        "print(\"Olá Tudo, Tudo bem\")"
      ]
    },
    {
      "cell_type": "code",
      "execution_count": null,
      "id": "a9ce949b",
      "metadata": {
        "id": "a9ce949b",
        "outputId": "4b5eb77c-c5d3-46a2-9074-baed881d06e2"
      },
      "outputs": [
        {
          "name": "stdout",
          "output_type": "stream",
          "text": [
            "5\n"
          ]
        }
      ],
      "source": [
        "a = 2 \n",
        "b = 3 \n",
        "print (a + b) "
      ]
    },
    {
      "cell_type": "code",
      "execution_count": null,
      "id": "dae7387b",
      "metadata": {
        "id": "dae7387b",
        "outputId": "faa7b36c-6db6-402a-e68f-9c245f477470"
      },
      "outputs": [
        {
          "name": "stdout",
          "output_type": "stream",
          "text": [
            "17\n"
          ]
        }
      ],
      "source": [
        "a = 2 \n",
        "b = 3 \n",
        "c = 5\n",
        "print (a + b * c) "
      ]
    },
    {
      "cell_type": "code",
      "execution_count": null,
      "id": "5c8d1845",
      "metadata": {
        "id": "5c8d1845",
        "outputId": "81cc6325-e03d-42df-d4ef-5ff584d3d413"
      },
      "outputs": [
        {
          "name": "stdout",
          "output_type": "stream",
          "text": [
            "862.5\n"
          ]
        }
      ],
      "source": [
        "salario = 750 #(1)\n",
        "aumento = 15 #(2)\n",
        "print (salario +(salario*aumento/100)) #(3)"
      ]
    },
    {
      "cell_type": "code",
      "execution_count": null,
      "id": "a52717c6",
      "metadata": {
        "id": "a52717c6",
        "outputId": "ea44c454-d931-42cb-8f13-ddc00746e4f5"
      },
      "outputs": [
        {
          "name": "stdout",
          "output_type": "stream",
          "text": [
            "metros?20\n",
            "2000.0\n"
          ]
        },
        {
          "data": {
            "text/plain": [
              "(None, 'cm')"
            ]
          },
          "execution_count": 5,
          "metadata": {},
          "output_type": "execute_result"
        }
      ],
      "source": [
        "metros = float (input('metros?'))\n",
        "cent = metros * 100;\n",
        "print (cent), 'cm'"
      ]
    },
    {
      "cell_type": "code",
      "execution_count": null,
      "id": "ea89fba9",
      "metadata": {
        "id": "ea89fba9",
        "outputId": "60938c0b-519f-44fd-9012-690541fedb30"
      },
      "outputs": [
        {
          "name": "stdout",
          "output_type": "stream",
          "text": [
            "\t--------tabuada------\n",
            "informe o numero para ver a tabuad: 63\n",
            "\n",
            " tabuada de 63 :\n",
            "63 x 1 = 63\n",
            "63 x 2 = 126\n",
            "63 x 3 = 189\n",
            "63 x 4 = 252\n",
            "63 x 5 = 315\n",
            "63 x 6 = 378\n",
            "63 x 7 = 441\n",
            "63 x 8 = 504\n",
            "63 x 9 = 567\n",
            "63 x 10 = 630\n"
          ]
        }
      ],
      "source": [
        "print('\\t--------tabuada------')\n",
        "numero = int(input('informe o numero para ver a tabuad: '))\n",
        "print('\\n tabuada de', numero, ':')\n",
        "for i in range(1,11):\n",
        "    print(numero, 'x',i, '=',(numero*i))"
      ]
    },
    {
      "cell_type": "code",
      "execution_count": null,
      "id": "c33c6b38",
      "metadata": {
        "id": "c33c6b38",
        "outputId": "0b30596c-eb92-47c0-9f41-3360db4ed699"
      },
      "outputs": [
        {
          "name": "stdout",
          "output_type": "stream",
          "text": [
            "primeira nota: 10\n",
            "segunda nota: 20\n",
            "media:  15.0\n",
            "aprovado com distinção!\n"
          ]
        }
      ],
      "source": [
        "nota1 = float(input('primeira nota: '))\n",
        "nota2 = float(input('segunda nota: '))\n",
        "\n",
        "media = (nota1 + nota2)/2\n",
        "print('media: ',media)\n",
        "\n",
        "if media<7: \n",
        "    print('reprovado')\n",
        "elif media<10:\n",
        "    print('aprovado') \n",
        "else: \n",
        "    print('aprovado com distinção!')"
      ]
    },
    {
      "cell_type": "code",
      "execution_count": null,
      "id": "eacd2b8e",
      "metadata": {
        "id": "eacd2b8e",
        "outputId": "f1005147-0fcc-492e-b2e1-bf58b4212bad"
      },
      "outputs": [
        {
          "name": "stdout",
          "output_type": "stream",
          "text": [
            "\\SALÁRIO ATUAL: R$700\n",
            "Reajuste Salarial de 15% de R$700.00 passa a receber R$805.00\n",
            "Reajuste Salarial de 10% de R$700.00 passa a receber R$770.00\n",
            "Reajuste Salarial de 5% de R$700.00 passa a receber R$735.00\n"
          ]
        }
      ],
      "source": [
        "print('\\SALÁRIO ATUAL: R$700')\n",
        "salario = 700 \n",
        "aumento = 15 \n",
        "#print (salario +(salario*aumento/100))\n",
        "\n",
        "novo =salario + (salario*15/100)\n",
        "print('Reajuste Salarial de 15% de R${:.2F} passa a receber R${:.2F}'. format(salario, novo))\n",
        "\n",
        "novo =salario + (salario*10/100)\n",
        "print('Reajuste Salarial de 10% de R${:.2F} passa a receber R${:.2F}'. format(salario, novo))\n",
        "\n",
        "novo =salario + (salario*5/100)\n",
        "print('Reajuste Salarial de 5% de R${:.2F} passa a receber R${:.2F}'. format(salario, novo))\n"
      ]
    },
    {
      "cell_type": "code",
      "execution_count": null,
      "id": "77e3d10b",
      "metadata": {
        "id": "77e3d10b",
        "outputId": "33066a80-8c81-48cd-c97d-c21943106b87"
      },
      "outputs": [
        {
          "name": "stdout",
          "output_type": "stream",
          "text": [
            "informe um numero: 5\n",
            "informe outro numero: 8\n",
            "soma: 13.0\n"
          ]
        }
      ],
      "source": [
        "numero1 = float(input('informe um numero: '))\n",
        "numero2 = float(input('informe outro numero: '))\n",
        "soma = (numero1 + numero2)\n",
        "print('soma:', soma)\n"
      ]
    },
    {
      "cell_type": "code",
      "execution_count": null,
      "id": "bbd9c408",
      "metadata": {
        "id": "bbd9c408",
        "outputId": "563edbf4-ee0a-436b-c792-6072f28ed82a"
      },
      "outputs": [
        {
          "name": "stdout",
          "output_type": "stream",
          "text": [
            "informe um numero: 8\n",
            "informe outro numero: 8\n",
            "soma: 16.0\n",
            "mult: 64.0\n",
            "div: 1.0\n",
            "sub: 0.0\n"
          ]
        }
      ],
      "source": [
        "numero1 = float(input('informe um numero: '))\n",
        "numero2 = float(input('informe outro numero: '))\n",
        "soma = (numero1 + numero2)\n",
        "print('soma:', soma)\n",
        "\n",
        "mult = (numero1 * numero2)\n",
        "print ('mult:', mult)\n",
        "\n",
        "div = (numero1/numero2)\n",
        "print ('div:', div)\n",
        "\n",
        "sub = (numero1-numero2)\n",
        "print ('sub:', sub)\n"
      ]
    },
    {
      "cell_type": "code",
      "execution_count": null,
      "id": "d83b4d2a",
      "metadata": {
        "id": "d83b4d2a"
      },
      "outputs": [],
      "source": [
        ""
      ]
    }
  ],
  "metadata": {
    "kernelspec": {
      "display_name": "Python 3 (ipykernel)",
      "language": "python",
      "name": "python3"
    },
    "language_info": {
      "codemirror_mode": {
        "name": "ipython",
        "version": 3
      },
      "file_extension": ".py",
      "mimetype": "text/x-python",
      "name": "python",
      "nbconvert_exporter": "python",
      "pygments_lexer": "ipython3",
      "version": "3.9.7"
    },
    "colab": {
      "name": "Nivel 1 - 19 - Rodrigues.ipynb",
      "provenance": [],
      "include_colab_link": true
    }
  },
  "nbformat": 4,
  "nbformat_minor": 5
}
