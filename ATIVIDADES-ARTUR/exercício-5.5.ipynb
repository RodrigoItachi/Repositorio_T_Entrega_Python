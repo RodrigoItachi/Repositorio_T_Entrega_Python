{
 "cells": [
  {
   "cell_type": "code",
   "execution_count": 2,
   "id": "915e6969",
   "metadata": {},
   "outputs": [
    {
     "name": "stdout",
     "output_type": "stream",
     "text": [
      "Os números que serão somados é 2 + 3 + 5\n",
      "\n",
      "A soma desse números é: 10\n"
     ]
    }
   ],
   "source": [
    "#O programa irá fazer a soma de 3 números\n",
    "\n",
    "a = 2\n",
    "b =3\n",
    "c = 5\n",
    "\n",
    "print('Os números que serão somados é 2 + 3 + 5\\n')\n",
    "\n",
    "soma = (a+b) + c\n",
    "\n",
    "print(f'A soma desse números é: {soma}')"
   ]
  },
  {
   "cell_type": "code",
   "execution_count": null,
   "id": "1a19c120",
   "metadata": {},
   "outputs": [],
   "source": []
  }
 ],
 "metadata": {
  "kernelspec": {
   "display_name": "Python 3 (ipykernel)",
   "language": "python",
   "name": "python3"
  },
  "language_info": {
   "codemirror_mode": {
    "name": "ipython",
    "version": 3
   },
   "file_extension": ".py",
   "mimetype": "text/x-python",
   "name": "python",
   "nbconvert_exporter": "python",
   "pygments_lexer": "ipython3",
   "version": "3.9.7"
  }
 },
 "nbformat": 4,
 "nbformat_minor": 5
}
