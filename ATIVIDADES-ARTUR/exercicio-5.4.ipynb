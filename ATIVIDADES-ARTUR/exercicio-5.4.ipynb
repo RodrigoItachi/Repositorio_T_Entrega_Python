{
 "cells": [
  {
   "cell_type": "code",
   "execution_count": 3,
   "id": "e4a917a0",
   "metadata": {},
   "outputs": [
    {
     "name": "stdout",
     "output_type": "stream",
     "text": [
      "A formula é 2a x 3b\n",
      "O resultado de 2a x 3b é 90\n"
     ]
    }
   ],
   "source": [
    "# A vale 3\n",
    "# B vale 5\n",
    "\n",
    "print('A formula é 2a x 3b')\n",
    "\n",
    "a = 3\n",
    "b = 5\n",
    "formula = (2*a) * (3*b) \n",
    "\n",
    "print(f'O resultado de 2a x 3b é {formula}')"
   ]
  },
  {
   "cell_type": "code",
   "execution_count": null,
   "id": "9f9c4acd",
   "metadata": {},
   "outputs": [],
   "source": []
  }
 ],
 "metadata": {
  "kernelspec": {
   "display_name": "Python 3 (ipykernel)",
   "language": "python",
   "name": "python3"
  },
  "language_info": {
   "codemirror_mode": {
    "name": "ipython",
    "version": 3
   },
   "file_extension": ".py",
   "mimetype": "text/x-python",
   "name": "python",
   "nbconvert_exporter": "python",
   "pygments_lexer": "ipython3",
   "version": "3.9.7"
  }
 },
 "nbformat": 4,
 "nbformat_minor": 5
}
