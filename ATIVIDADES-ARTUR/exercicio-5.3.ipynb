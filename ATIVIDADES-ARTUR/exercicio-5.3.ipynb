{
 "cells": [
  {
   "cell_type": "code",
   "execution_count": null,
   "id": "bd6b4f2a",
   "metadata": {},
   "outputs": [],
   "source": [
    "#O programa irá perguntar seu nome e exibir na tela\n",
    "\n",
    "nome = str(input('Escreva seu nome: '))\n",
    "\n",
    "print(f'Esse foi o nome que você escreveu? {nome}')"
   ]
  },
  {
   "cell_type": "code",
   "execution_count": null,
   "id": "38a0b06a",
   "metadata": {},
   "outputs": [],
   "source": []
  },
  {
   "cell_type": "code",
   "execution_count": null,
   "id": "9e28abf3",
   "metadata": {},
   "outputs": [],
   "source": [
    " #O programa irá perguntar seu nome e exibir na tela\n",
    "\n",
    "nome = str(input('Escreva seu nome: '))\n",
    "\n",
    "print(f'Esse foi o nome que você escreveu? {nome}')"
   ]
  },
  {
   "cell_type": "code",
   "execution_count": 1,
   "id": "d563b041",
   "metadata": {},
   "outputs": [
    {
     "name": "stdout",
     "output_type": "stream",
     "text": [
      "Escreva seu nome: Artur\n",
      "Esse foi o nome que você escreveu? Artur\n"
     ]
    }
   ],
   "source": [
    "#O programa irá perguntar seu nome e exibir na tela\n",
    "\n",
    "nome = str(input('Escreva seu nome: '))\n",
    "\n",
    "print(f'Esse foi o nome que você escreveu? {nome}')"
   ]
  },
  {
   "cell_type": "code",
   "execution_count": 2,
   "id": "b05a9e60",
   "metadata": {},
   "outputs": [
    {
     "name": "stdout",
     "output_type": "stream",
     "text": [
      "Escreva seu nome: Artur\n",
      "Esse foi o nome que você escreveu: Artur\n"
     ]
    }
   ],
   "source": [
    "#O programa irá perguntar seu nome e exibir na tela\n",
    "\n",
    "nome = str(input('Escreva seu nome: '))\n",
    "\n",
    "print(f'Esse foi o nome que você escreveu: {nome}')"
   ]
  },
  {
   "cell_type": "code",
   "execution_count": null,
   "id": "5cb04a44",
   "metadata": {},
   "outputs": [],
   "source": []
  }
 ],
 "metadata": {
  "kernelspec": {
   "display_name": "Python 3 (ipykernel)",
   "language": "python",
   "name": "python3"
  },
  "language_info": {
   "codemirror_mode": {
    "name": "ipython",
    "version": 3
   },
   "file_extension": ".py",
   "mimetype": "text/x-python",
   "name": "python",
   "nbconvert_exporter": "python",
   "pygments_lexer": "ipython3",
   "version": "3.9.7"
  }
 },
 "nbformat": 4,
 "nbformat_minor": 5
}
