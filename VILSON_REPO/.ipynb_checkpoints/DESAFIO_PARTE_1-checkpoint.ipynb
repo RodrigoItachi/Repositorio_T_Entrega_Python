{
 "cells": [
  {
   "cell_type": "code",
   "execution_count": 11,
   "id": "1882147f",
   "metadata": {},
   "outputs": [
    {
     "name": "stdout",
     "output_type": "stream",
     "text": [
      "Digite a quantidade do produto 'Coca Cola' vendidas:1000\n",
      "Digite a quantidade do produto 'Pepsi' vendidas:1000\n",
      "O preço unitario da Coca Cola é: 1.50\n",
      "O preço unitario da Coca Cola é: 1.99\n",
      "FATURAMENTO PEPSI: \n",
      "1990.0R$\n",
      "\n",
      "FATURAMENTO COCA-COLA: \n",
      "1500.0R$\n",
      "\n",
      "CALCULO DE LUCRO: LUCRO = FATURAMENTO TOTAL - CUSTO DA LOJA: \n",
      "990.0R$\n",
      "\n",
      "A MARGEM DA LOJA É: 0.28\n",
      "Sua loja esta indo muito bem !!!!!! seu lucro é de:990.0R$\n",
      "\n"
     ]
    }
   ],
   "source": [
    "\"\"\"\n",
    "Parte 1 - Operações e Variáveis\n",
    "Crie um programa que imprima (print) os principais indicadores da loja Hashtag&Drink no último ano. Obs: faça tudo usando variáveis.\n",
    "Valores do último ano:\n",
    "Quantidade de Vendas de Coca = 150\n",
    "Quantidade de Vendas de Pepsi = 130\n",
    "Preço Unitário da Coca = 1,50\n",
    "Preço Unitário da Pepsi = 1,50\n",
    "Custo da Loja: 2.500,00\n",
    "\"\"\"\n",
    "\n",
    "qtd_vendascoca = float(input(\"Digite a quantidade do produto 'Coca Cola' vendidas:\"))\n",
    "qtd_vendaspepsi = float(input(\"Digite a quantidade do produto 'Pepsi' vendidas:\"))\n",
    "pu_coca = float(input(\"O preço unitario da Coca Cola é: \"))\n",
    "pu_pepsi = float(input(\"O preço unitario da Pepsi é: \"))\n",
    "lucrococa= qtd_vendascoca*pu_coca\n",
    "lucropepsi= qtd_vendaspepsi*pu_pepsi\n",
    "custol=2500\n",
    "total = lucrococa+lucropepsi\n",
    "lucro = total - custol\n",
    "margem = lucro/total\n",
    "\n",
    "print(f\"FATURAMENTO PEPSI: \\n{lucropepsi}R$\\n\")\n",
    "print(f\"FATURAMENTO COCA-COLA: \\n{lucrococa}R$\\n\")\n",
    "\n",
    "print(f\"CALCULO DE LUCRO: LUCRO = FATURAMENTO TOTAL - CUSTO DA LOJA: \\n{lucro}R$\\n\")\n",
    "print(f\"A MARGEM DA LOJA É: {margem:.2f}\")\n",
    "\n",
    "if lucro > 0:\n",
    "    print(f\"Sua loja esta indo muito bem !!!!!! seu lucro é de:{lucro}R$\\n\")\n",
    "elif lucro == 0:\n",
    "    print(f\"Sua loja não esta gerando lucro !!!! seu lucro é de:{lucro}R$\\n\")\n",
    "else:\n",
    "    print(f\"Sua loja esta negativada, lucro negativo... Seu lucro esta em:{lucro}R$\\n\")\n",
    "    \n"
   ]
  },
  {
   "cell_type": "code",
   "execution_count": null,
   "id": "ae1837eb",
   "metadata": {},
   "outputs": [],
   "source": [
    "\"\"\"\n",
    "A maioria das empresas trabalham com um Código para cada produto que possuem. A Hashtag&Drink, por exemplo, tem mais de 1.000 produtos e possui um código para cada produto. Ex: Coca -> Código: BEB1300543\n",
    "Pepsi -> Código: BEB1300545\n",
    "Vinho Primitivo Lucarelli -> Código: BAC1546001\n",
    "Vodka Smirnoff -> Código: BAC17675002\n",
    "\n",
    "Repare que todas as bebidas não alcóolicas tem o início do Código \"BEB\" e todas as bebidas alcóolicas tem o início do código \"BAC\".\n",
    "Crie um programa de consulta de bebida que, dado um código qualquer, identifique se a bebida é alcóolica. O programa deve responder True para bebidas alcóolicas e False para bebidas não alcóolicas. Para inserir um código, use um input.\n",
    "Dica: Lembre-se do comando in para strings e sempre insira os códigos com letra maiúscula para facilitar.\n",
    "\"\"\"\n",
    "\n"
   ]
  }
 ],
 "metadata": {
  "kernelspec": {
   "display_name": "Python 3 (ipykernel)",
   "language": "python",
   "name": "python3"
  },
  "language_info": {
   "codemirror_mode": {
    "name": "ipython",
    "version": 3
   },
   "file_extension": ".py",
   "mimetype": "text/x-python",
   "name": "python",
   "nbconvert_exporter": "python",
   "pygments_lexer": "ipython3",
   "version": "3.9.7"
  }
 },
 "nbformat": 4,
 "nbformat_minor": 5
}
