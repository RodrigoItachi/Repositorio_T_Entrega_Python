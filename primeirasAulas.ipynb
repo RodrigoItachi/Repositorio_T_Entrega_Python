{
  "nbformat": 4,
  "nbformat_minor": 0,
  "metadata": {
    "colab": {
      "name": "primeirasAulas.ipynb",
      "provenance": [],
      "authorship_tag": "ABX9TyOkwpQbIds85FY2R2VFxjJa",
      "include_colab_link": true
    },
    "kernelspec": {
      "name": "python3",
      "display_name": "Python 3"
    },
    "language_info": {
      "name": "python"
    }
  },
  "cells": [
    {
      "cell_type": "markdown",
      "metadata": {
        "id": "view-in-github",
        "colab_type": "text"
      },
      "source": [
        "<a href=\"https://colab.research.google.com/github/Derimar/Repositorio_T_Entrega_Python/blob/main/primeirasAulas.ipynb\" target=\"_parent\"><img src=\"https://colab.research.google.com/assets/colab-badge.svg\" alt=\"Open In Colab\"/></a>"
      ]
    },
    {
      "cell_type": "code",
      "source": [
        ""
      ],
      "metadata": {
        "id": "4EVw0HSFD-u0"
      },
      "execution_count": null,
      "outputs": []
    },
    {
      "cell_type": "markdown",
      "source": [
        ""
      ],
      "metadata": {
        "id": "kTgOejaWD_Dk"
      }
    },
    {
      "cell_type": "code",
      "source": [
        "NOME=input('QUAL SEU NOME: ')\n",
        "peso= input('quel seu peso: ')\n",
        "idade= input('quel sua idade: ')"
      ],
      "metadata": {
        "colab": {
          "base_uri": "https://localhost:8080/"
        },
        "id": "abaZP614D_vV",
        "outputId": "79759652-5ca5-43e6-88e7-c951f5bc838f"
      },
      "execution_count": 11,
      "outputs": [
        {
          "name": "stdout",
          "output_type": "stream",
          "text": [
            "QUAL SEU NOME: leo\n",
            "quel seu peso: 70\n",
            "quel sua idade: 40\n"
          ]
        }
      ]
    }
  ]
}