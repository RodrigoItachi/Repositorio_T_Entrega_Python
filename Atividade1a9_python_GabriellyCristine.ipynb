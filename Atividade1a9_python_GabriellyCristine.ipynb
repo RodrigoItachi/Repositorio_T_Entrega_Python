{
  "nbformat": 4,
  "nbformat_minor": 0,
  "metadata": {
    "colab": {
      "name": "GabriellyCristine.ipynb",
      "provenance": [],
      "toc_visible": true,
      "authorship_tag": "ABX9TyOYeRwSV5ZJg+APYeYIvpBg",
      "include_colab_link": true
    },
    "kernelspec": {
      "name": "python3",
      "display_name": "Python 3"
    },
    "language_info": {
      "name": "python"
    }
  },
  "cells": [
    {
      "cell_type": "markdown",
      "metadata": {
        "id": "view-in-github",
        "colab_type": "text"
      },
      "source": [
        "<a href=\"https://colab.research.google.com/github/gabrielly390/Repositorio_T_Entrega_Python/blob/main/Atividade1a9_python_GabriellyCristine.ipynb\" target=\"_parent\"><img src=\"https://colab.research.google.com/assets/colab-badge.svg\" alt=\"Open In Colab\"/></a>"
      ]
    },
    {
      "cell_type": "code",
      "source": [
        "#soma\n",
        "10+20*30\n"
      ],
      "metadata": {
        "colab": {
          "base_uri": "https://localhost:8080/"
        },
        "id": "ldTF9uDS2KIp",
        "outputId": "ddc1152e-fdc9-4ada-a4fa-0e0e18289088"
      },
      "execution_count": null,
      "outputs": [
        {
          "output_type": "execute_result",
          "data": {
            "text/plain": [
              "610"
            ]
          },
          "metadata": {},
          "execution_count": 1
        }
      ]
    },
    {
      "cell_type": "code",
      "source": [
        "#exponenciação e divisão\n",
        "4**2/30\n"
      ],
      "metadata": {
        "colab": {
          "base_uri": "https://localhost:8080/"
        },
        "id": "Hbbaitb422Ut",
        "outputId": "66ca0abb-66f4-47da-b93c-49777700e623"
      },
      "execution_count": null,
      "outputs": [
        {
          "output_type": "execute_result",
          "data": {
            "text/plain": [
              "0.5333333333333333"
            ]
          },
          "metadata": {},
          "execution_count": 2
        }
      ]
    },
    {
      "cell_type": "code",
      "source": [
        "#soma e subtração e divisão\n",
        "(94+2)*6-1\n"
      ],
      "metadata": {
        "colab": {
          "base_uri": "https://localhost:8080/"
        },
        "id": "lMLjQS7y3Lpc",
        "outputId": "f0794b20-d466-4b77-edfd-07cba6c602a9"
      },
      "execution_count": null,
      "outputs": [
        {
          "output_type": "execute_result",
          "data": {
            "text/plain": [
              "575"
            ]
          },
          "metadata": {},
          "execution_count": 3
        }
      ]
    },
    {
      "cell_type": "code",
      "source": [
        "#soma e multiplicação e subtração\n",
        "((10+8)*(10-4))-1"
      ],
      "metadata": {
        "colab": {
          "base_uri": "https://localhost:8080/"
        },
        "id": "UQe5vGrH3dj4",
        "outputId": "6374d8d6-1238-458e-9791-61b30c4fe05d"
      },
      "execution_count": null,
      "outputs": [
        {
          "output_type": "execute_result",
          "data": {
            "text/plain": [
              "107"
            ]
          },
          "metadata": {},
          "execution_count": 4
        }
      ]
    },
    {
      "cell_type": "code",
      "source": [
        "#soma e divisão e subtração e exponenciação\n",
        "((1500+(100-9/10)*9)**3)"
      ],
      "metadata": {
        "colab": {
          "base_uri": "https://localhost:8080/"
        },
        "id": "c14eYaPH4U2l",
        "outputId": "d86af6c8-f621-4d28-d7b2-590035d1d7b1"
      },
      "execution_count": null,
      "outputs": [
        {
          "output_type": "execute_result",
          "data": {
            "text/plain": [
              "13684503860.559002"
            ]
          },
          "metadata": {},
          "execution_count": 6
        }
      ]
    },
    {
      "cell_type": "code",
      "source": [
        "10%3*10**2+1-10*4/2"
      ],
      "metadata": {
        "colab": {
          "base_uri": "https://localhost:8080/"
        },
        "id": "YxasYRZo47w-",
        "outputId": "3903275a-b7fc-4461-82bd-f26c7f6d82c1"
      },
      "execution_count": null,
      "outputs": [
        {
          "output_type": "execute_result",
          "data": {
            "text/plain": [
              "81.0"
            ]
          },
          "metadata": {},
          "execution_count": 7
        }
      ]
    },
    {
      "cell_type": "code",
      "source": [
        "print(\"gabrielly\")"
      ],
      "metadata": {
        "colab": {
          "base_uri": "https://localhost:8080/"
        },
        "id": "vHrNZQZW6Sm-",
        "outputId": "1f075663-b819-4db8-af8d-28e1922b18a3"
      },
      "execution_count": null,
      "outputs": [
        {
          "output_type": "stream",
          "name": "stdout",
          "text": [
            "gabrielly\n"
          ]
        }
      ]
    },
    {
      "cell_type": "code",
      "source": [
        "a=3 #(1)\n",
        "b=5 #(2)\n",
        "print(2*a*3*b)"
      ],
      "metadata": {
        "colab": {
          "base_uri": "https://localhost:8080/"
        },
        "id": "8dM9srBb6zqV",
        "outputId": "d7dccb78-91df-46d9-e4cd-72411c840995"
      },
      "execution_count": null,
      "outputs": [
        {
          "output_type": "stream",
          "name": "stdout",
          "text": [
            "90\n"
          ]
        }
      ]
    },
    {
      "cell_type": "code",
      "source": [
        "a = 2566 #(1)\n",
        "b = 254 #(2)\n",
        "c = 543 #(3)\n",
        "print(a+b+c)"
      ],
      "metadata": {
        "colab": {
          "base_uri": "https://localhost:8080/"
        },
        "id": "1m2GYnaX7K_A",
        "outputId": "7ecbebdc-f569-49aa-cd81-e538a7a8979b"
      },
      "execution_count": null,
      "outputs": [
        {
          "output_type": "stream",
          "name": "stdout",
          "text": [
            "3363\n"
          ]
        }
      ]
    },
    {
      "cell_type": "code",
      "source": [
        "salario=750#(1)\n",
        "aumento= 15#(2)\n",
        "print(salario+(salario * aumento / 100))#3"
      ],
      "metadata": {
        "colab": {
          "base_uri": "https://localhost:8080/"
        },
        "outputId": "a8e21bd1-12b5-4758-f5ab-a1e3dbbf873d",
        "id": "3iaOjoXyXH61"
      },
      "execution_count": null,
      "outputs": [
        {
          "output_type": "stream",
          "name": "stdout",
          "text": [
            "862.5\n"
          ]
        }
      ]
    },
    {
      "cell_type": "code",
      "source": [
        "metros = float (input(' ensira um valor em Metros: '))\n",
        "centimetros = metros * 100;\n",
        "print (centimetros, ' cm')"
      ],
      "metadata": {
        "id": "ZKEjE9GzXb97",
        "outputId": "59671a7e-7431-4133-d0c3-fd96ae2aef09",
        "colab": {
          "base_uri": "https://localhost:8080/"
        }
      },
      "execution_count": 3,
      "outputs": [
        {
          "output_type": "stream",
          "name": "stdout",
          "text": [
            " ensira um valor em Metros: 10\n",
            "1000.0  cm\n"
          ]
        }
      ]
    },
    {
      "cell_type": "code",
      "source": [
        "numero = int(input('Digite um numero: '))\n",
        "print('{} x {} = {}'.format(numero, 1, numero*1))\n",
        "print('{} x {} = {}'.format(numero, 2, numero*2))\n",
        "print('{} x {} = {}'.format(numero, 3,numero*3))\n",
        "print('{} x {} = {}'.format(numero, 4, numero*4))\n",
        "print('{} x {} = {}'.format(numero, 5,numero*5))\n",
        "print('{} x {} = {}'.format(numero, 6, numero*6))\n",
        "print('{} x {} = {}'.format(numero, 7, numero*7))\n",
        "print('{} x {} = {}'.format(numero, 8, numero*8))\n",
        "print('{} x {} = {}'.format(numero, 9, numero*9))\n",
        "print('{} x {} = {}'.format(numero, 10, numero*10))"
      ],
      "metadata": {
        "id": "Mlk29R1PZlqn",
        "outputId": "cfe73010-06cd-4e67-ad5c-480607cf0026",
        "colab": {
          "base_uri": "https://localhost:8080/"
        }
      },
      "execution_count": 14,
      "outputs": [
        {
          "output_type": "stream",
          "name": "stdout",
          "text": [
            "Digite um numero: 6\n",
            "6 x 1 = 6\n",
            "6 x 2 = 12\n",
            "6 x 3 = 18\n",
            "6 x 4 = 24\n",
            "6 x 5 = 30\n",
            "6 x 6 = 36\n",
            "6 x 7 = 42\n",
            "6 x 8 = 48\n",
            "6 x 9 = 54\n",
            "6 x 10 = 60\n"
          ]
        }
      ]
    },
    {
      "cell_type": "code",
      "source": [
        "nota1 = float (input(' insira a primeira nota do aluno: '))\n",
        "nota2 = float (input(' insira a segunda nota do aluno: '))\n",
        "media = (nota1+nota2) / 2\n",
        "print(' a media do aluno é igual a {}'.format(media, nota1, nota2))\n"
      ],
      "metadata": {
        "id": "-E6OBxUPfIYc",
        "outputId": "3afb4479-0ba5-4b12-c09a-96154ae43100",
        "colab": {
          "base_uri": "https://localhost:8080/"
        }
      },
      "execution_count": 23,
      "outputs": [
        {
          "output_type": "stream",
          "name": "stdout",
          "text": [
            " insira a primeira nota do aluno: 4\n",
            " insira a segunda nota do aluno: 8\n",
            " a media é igual a 6.0\n"
          ]
        }
      ]
    }
  ]
}