{
  "nbformat": 4,
  "nbformat_minor": 0,
  "metadata": {
    "colab": {
      "name": "EXE_5.10 A 5.22_PYTHON_GABRIELLY.ipynb",
      "provenance": [],
      "collapsed_sections": [],
      "authorship_tag": "ABX9TyOvHI4htoHIWl0OkbomgcLd",
      "include_colab_link": true
    },
    "kernelspec": {
      "name": "python3",
      "display_name": "Python 3"
    },
    "language_info": {
      "name": "python"
    }
  },
  "cells": [
    {
      "cell_type": "markdown",
      "metadata": {
        "id": "view-in-github",
        "colab_type": "text"
      },
      "source": [
        "<a href=\"https://colab.research.google.com/github/gabrielly390/Repositorio_T_Entrega_Python/blob/main/EXE_5_10_A_5_22_PYTHON_GABRIELLY.ipynb\" target=\"_parent\"><img src=\"https://colab.research.google.com/assets/colab-badge.svg\" alt=\"Open In Colab\"/></a>"
      ]
    },
    {
      "cell_type": "code",
      "execution_count": null,
      "metadata": {
        "colab": {
          "base_uri": "https://localhost:8080/"
        },
        "id": "pFCXt9OYlwAE",
        "outputId": "3350e8c8-dbf1-48b2-e696-025ea66efe52"
      },
      "outputs": [
        {
          "output_type": "stream",
          "name": "stdout",
          "text": [
            " ensira o salario do funcionario: 1500\n",
            " o salario do funcionario reajustado  em 15% é igual a R$1500.00\n",
            " o salario do funcionario reajustado em 10% é igual a R$1500.00\n",
            " o salario do funcionario reajustado em 5% é igual a R$1500.00\n"
          ]
        }
      ],
      "source": [
        "salario = float (input(' insira o salario do funcionario: '))\n",
        "novo = salario + (salario * 15 / 100)\n",
        "print(' o salario do funcionario reajustado  em 15% é igual a R${:.2f}'.format(salario, novo))\n",
        "novo = salario + (salario * 10 /100)\n",
        "print(' o salario do funcionario reajustado em 10% é igual a R${:.2f}'.format(salario, novo))\n",
        "novo = salario + (salario * 5 / 100)\n",
        "print(' o salario do funcionario reajustado em 5% é igual a R${:.2f}'.format(salario, novo))\n"
      ]
    },
    {
      "cell_type": "code",
      "source": [
        "N1 = int (input(' insira um numero: '))\n",
        "N2 = int (input(' insira outro numero: '))\n",
        "soma = N1 + N2\n",
        "print(' a soma dos numeros é igual a {}'.format(soma, N1, N2))"
      ],
      "metadata": {
        "colab": {
          "base_uri": "https://localhost:8080/"
        },
        "id": "j1loLmugsf4V",
        "outputId": "b9c949c1-44ce-484f-d7be-41b88c096cbf"
      },
      "execution_count": null,
      "outputs": [
        {
          "output_type": "stream",
          "name": "stdout",
          "text": [
            " insira um numero: 4\n",
            " insira outro numero: 8\n",
            " a soma dos numeros é igual a 12\n"
          ]
        }
      ]
    },
    {
      "cell_type": "code",
      "source": [
        "num1 = float (input(' insira um numero: '))\n",
        "num2 = float (input(' insira outro numero: '))\n",
        "soma = num1 + num2\n",
        "print('a soma dos numeros é igual a {}'.format(soma,num1,num2))\n",
        "sub = num1 - num2\n",
        "print(' a diferença dos numeros é igual a {}'.format(sub, num1, num2))\n",
        "mult = num1 * num2\n",
        "print(' a multiplicalção dos numeros é igual a {}'.format(mult, num1, num2))\n",
        "div = num1 / num2\n",
        "print(' a divisão dos numeros é igual a {}'.format(div, num1, num2))\n"
      ],
      "metadata": {
        "colab": {
          "base_uri": "https://localhost:8080/"
        },
        "id": "je_CpC8ZuRFA",
        "outputId": "d5a7c567-9c77-418f-cd27-673ec2936be1"
      },
      "execution_count": null,
      "outputs": [
        {
          "output_type": "stream",
          "name": "stdout",
          "text": [
            " insira um numero: 4\n",
            " insira outro numero: 2\n",
            "a soma dos numeros é igual a 6.0\n",
            " a diferença dos numeros é igual a 2.0\n",
            " a multiplicalção dos numeros é igual a 8.0\n",
            " a divisão dos numeros é igual a 2.0\n"
          ]
        }
      ]
    },
    {
      "cell_type": "code",
      "source": [
        "distancia = float (input(' insira a distancia total percorrida: '))\n",
        "total_comb = float (input(' insira o total de combustivel gasto: '))\n",
        "consumo_med = ( distancia / total_comb )\n",
        "print(' o consumo médio do combustivel é igual a {:.3f} km/l'.format(consumo_med, distancia, total_comb))\n"
      ],
      "metadata": {
        "id": "FSkE6d-Kw1Ys",
        "colab": {
          "base_uri": "https://localhost:8080/"
        },
        "outputId": "8e1867ac-9143-4c90-f921-89ab56150c81"
      },
      "execution_count": 14,
      "outputs": [
        {
          "output_type": "stream",
          "name": "stdout",
          "text": [
            " insira a distancia total percorrida: 254\n",
            " insira o total de combustivel gasto: 4\n",
            " o consumo médio do combustivel é igual a 63.500km/l\n"
          ]
        }
      ]
    },
    {
      "cell_type": "code",
      "source": [
        "nome =  str (input(' insira o nome do vendedor: '))\n",
        "salario_fx = float (input(' insira o salario fixo do vendedor: '))\n",
        "total_ven = float (input(' insira o total de vendas desse vendedor'))\n",
        "salario_final = (salario_fx * total_ven * 15) / 100\n",
        "print(' o funcionario {}'.format(nome)) \n",
        "print(' ganha fixamente R${:.3f}'.format(salario_fx)) \n",
        "print(' com a sua comissão de 15% inserida ele passa a ganhar R${}'.format(salario_final))\n"
      ],
      "metadata": {
        "id": "kcteHGEPye-d",
        "colab": {
          "base_uri": "https://localhost:8080/"
        },
        "outputId": "4af9da3a-1bf2-4963-d7eb-08af04c9d2ac"
      },
      "execution_count": 19,
      "outputs": [
        {
          "output_type": "stream",
          "name": "stdout",
          "text": [
            " insira o nome do vendedor: JOSE\n",
            " insira o salario fixo do vendedor: 2500\n",
            " insira o total de vendas desse vendedor45\n",
            " o funcionario JOSE\n",
            " ganha fixamente R$2500.000\n",
            " com a sua comissão de 15% inserida ele passa a ganhar R$16875.0\n"
          ]
        }
      ]
    },
    {
      "cell_type": "code",
      "source": [
        "nome = str (input(' insira o nome do aluno: '))\n",
        "nota1 = float (input(' insira a primeira nota: '))\n",
        "nota2 = float (input(' insira a segunda nota: '))\n",
        "nota3 = float (input(' insira a terceira nota: '))\n",
        "media_final = (nota1 + nota2 + nota3) / 3\n",
        "print(' o aluno {}, obteve media final igual a {:.2f} '.format(nome, media_final))"
      ],
      "metadata": {
        "colab": {
          "base_uri": "https://localhost:8080/"
        },
        "id": "uMwzvY8QK9kz",
        "outputId": "7c950589-f97e-4230-9e34-bdeae7fad0cf"
      },
      "execution_count": 22,
      "outputs": [
        {
          "output_type": "stream",
          "name": "stdout",
          "text": [
            " insira o nome do aluno: jose\n",
            " insira a primeira nota: 8\n",
            " insira a segunda nota: 9\n",
            " insira a terceira nota: 7.5\n",
            " o aluno jose, obteve media final igual a 8.17 \n"
          ]
        }
      ]
    },
    {
      "cell_type": "code",
      "source": [
        "var_X = int (input(' Digite um numero inteiro para X : '))\n",
        "var_Y = int (input(' Digite outro numero inteiro para Y : '))\n",
        "print(' a  variavel X agora é {}'.format(var_Y))\n",
        "print(' a variavel y agora é {}'.format(var_X))"
      ],
      "metadata": {
        "colab": {
          "base_uri": "https://localhost:8080/"
        },
        "id": "tabolMwbMKLD",
        "outputId": "db5a328d-5691-4e45-859f-a04643ccdc85"
      },
      "execution_count": 23,
      "outputs": [
        {
          "output_type": "stream",
          "name": "stdout",
          "text": [
            " Digite um numero inteiro para X : 7\n",
            " Digite outro numero inteiro para Y : 8\n",
            " a  variavel X agora é 8\n",
            " a variavel y agora é 7\n"
          ]
        }
      ]
    },
    {
      "cell_type": "code",
      "source": [
        "Celsius = float (input(' digite a temperatura em Celsius: '))\n",
        "Fahre = ( 9 * Celsius + 160) / 5\n",
        "print(' a temperatura em Fahrenheit é igual a {:.2f}'.format(Fahre))"
      ],
      "metadata": {
        "colab": {
          "base_uri": "https://localhost:8080/"
        },
        "id": "_JkbwyRkPRE_",
        "outputId": "f498a8cc-db6b-4726-ab46-6a6123dc6fda"
      },
      "execution_count": 24,
      "outputs": [
        {
          "output_type": "stream",
          "name": "stdout",
          "text": [
            " digite a temperatura em Celsius: 45\n",
            " a temperatura em Fahrenheit é igual a 113.00\n"
          ]
        }
      ]
    },
    {
      "cell_type": "code",
      "source": [
        "cota_dolar = float (input(' qual é a cotação atual do dolar? '))\n",
        "dolar_dispo = float (input(' quantos dolares você possui atualmente? '))\n",
        "reais = cota_dolar * dolar_dispo\n",
        "print(' você possui R${:.2f} '.format(reais))"
      ],
      "metadata": {
        "colab": {
          "base_uri": "https://localhost:8080/"
        },
        "id": "v4Qo02w8QU5E",
        "outputId": "a5e83581-91f3-4fbd-e9f3-b520b5e22290"
      },
      "execution_count": 31,
      "outputs": [
        {
          "output_type": "stream",
          "name": "stdout",
          "text": [
            " qual é a cotação atual do dolar? 0.21\n",
            " quantos dolares você possui atualmente? 4000\n",
            " você possui R$840.00 \n"
          ]
        }
      ]
    },
    {
      "cell_type": "code",
      "source": [
        "valor_compra = float (input(' qual é o valor do produto? '))\n",
        "pre_1 = valor_compra \n",
        "pre_2 = valor_compra / 2\n",
        "pre_3 = valor_compra / 3\n",
        "pre_4 = valor_compra / 4\n",
        "pre_5 = valor_compra / 5\n",
        "print(' o valor das prestações em 1X é igual a {:.2f}'.format(pre_1))\n",
        "print(' o valor das prestações em 2x é igual a {:.2f}'.format(pre_2))\n",
        "print(' o valor das prestações em 3x é igual a {:.2f}'.format(pre_3))\n",
        "print(' o valor das prestações em 4x é igual a {:.2f}'.format(pre_4))\n",
        "print(' o valor das prestações em 5x é igual a {:.2f}'.format(pre_5))"
      ],
      "metadata": {
        "colab": {
          "base_uri": "https://localhost:8080/"
        },
        "id": "5Qa-BwAfTs8x",
        "outputId": "705e194e-d2cc-44fa-f30d-ed377981ddde"
      },
      "execution_count": 32,
      "outputs": [
        {
          "output_type": "stream",
          "name": "stdout",
          "text": [
            " qual é o valor do produto? 450\n",
            " o valor das prestações em 1X é igual a 450.00\n",
            " o valor das prestações em 2x é igual a 225.00\n",
            " o valor das prestações em 3x é igual a 150.00\n",
            " o valor das prestações em 4x é igual a 112.50\n",
            " o valor das prestações em 5x é igual a 90.00\n"
          ]
        }
      ]
    },
    {
      "cell_type": "code",
      "source": [
        "valor_prod = float (input(' digite o preço de custo do produto: '))\n",
        "perce = float (input(' digite o acréscimo percentual: '))\n",
        "valor_venda = (valor_prod * perce) / 100\n",
        "print(' o valor de venda é igual a {:.2f}'.format(valor_venda))                                                                  "
      ],
      "metadata": {
        "id": "SKBKoWYsVwBk"
      },
      "execution_count": null,
      "outputs": []
    },
    {
      "cell_type": "code",
      "source": [
        "custo_fab = float (input(' digite o custo de fabrica: '))\n",
        "var_1 = (custo_fab * 45) / 100\n",
        "var_2 = (var_1 * 28) / 100\n",
        "print(' o custo do consumidor é igual a: {}'.format(var_2))"
      ],
      "metadata": {
        "colab": {
          "base_uri": "https://localhost:8080/"
        },
        "id": "JBJnQQY4ZShf",
        "outputId": "ea10a3f5-69c3-4db0-d400-699e2913ee84"
      },
      "execution_count": 46,
      "outputs": [
        {
          "output_type": "stream",
          "name": "stdout",
          "text": [
            " digite o custo de fabrica: 45000\n",
            " o custo do consumidor é igual a: 5670.0\n"
          ]
        }
      ]
    }
  ]
}