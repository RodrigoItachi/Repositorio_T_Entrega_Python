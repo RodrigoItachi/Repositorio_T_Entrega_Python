{
 "cells": [
  {
   "cell_type": "code",
   "execution_count": 1,
   "id": "d9f2f465",
   "metadata": {},
   "outputs": [
    {
     "name": "stdout",
     "output_type": "stream",
     "text": [
      "Olá mundo!\n"
     ]
    }
   ],
   "source": [
    "print(\"Olá mundo!\")"
   ]
  },
  {
   "cell_type": "code",
   "execution_count": 2,
   "id": "a23263c0",
   "metadata": {},
   "outputs": [
    {
     "data": {
      "text/plain": [
       "10"
      ]
     },
     "execution_count": 2,
     "metadata": {},
     "output_type": "execute_result"
    }
   ],
   "source": [
    "#soma \n",
    "7+3"
   ]
  },
  {
   "cell_type": "code",
   "execution_count": 3,
   "id": "adb9e1f5",
   "metadata": {},
   "outputs": [
    {
     "data": {
      "text/plain": [
       "8"
      ]
     },
     "execution_count": 3,
     "metadata": {},
     "output_type": "execute_result"
    }
   ],
   "source": [
    "#adição e subtração\n",
    "7-4+5"
   ]
  },
  {
   "cell_type": "code",
   "execution_count": 4,
   "id": "a5c6753e",
   "metadata": {},
   "outputs": [
    {
     "data": {
      "text/plain": [
       "21"
      ]
     },
     "execution_count": 4,
     "metadata": {},
     "output_type": "execute_result"
    }
   ],
   "source": [
    "#multiplicação\n",
    "3*7"
   ]
  },
  {
   "cell_type": "code",
   "execution_count": 5,
   "id": "4c0e728e",
   "metadata": {},
   "outputs": [
    {
     "data": {
      "text/plain": [
       "5.0"
      ]
     },
     "execution_count": 5,
     "metadata": {},
     "output_type": "execute_result"
    }
   ],
   "source": [
    "#divisão\n",
    "30/6"
   ]
  },
  {
   "cell_type": "code",
   "execution_count": 6,
   "id": "43d23b0e",
   "metadata": {},
   "outputs": [
    {
     "data": {
      "text/plain": [
       "27"
      ]
     },
     "execution_count": 6,
     "metadata": {},
     "output_type": "execute_result"
    }
   ],
   "source": [
    "#expoente\n",
    "3**3"
   ]
  },
  {
   "cell_type": "code",
   "execution_count": 7,
   "id": "fb5ec9cd",
   "metadata": {},
   "outputs": [
    {
     "data": {
      "text/plain": [
       "1"
      ]
     },
     "execution_count": 7,
     "metadata": {},
     "output_type": "execute_result"
    }
   ],
   "source": [
    "#resto da divisão inteira\n",
    "21%5"
   ]
  },
  {
   "cell_type": "code",
   "execution_count": 8,
   "id": "cc74cb98",
   "metadata": {},
   "outputs": [
    {
     "data": {
      "text/plain": [
       "1"
      ]
     },
     "execution_count": 8,
     "metadata": {},
     "output_type": "execute_result"
    }
   ],
   "source": [
    "16%5"
   ]
  },
  {
   "cell_type": "code",
   "execution_count": 9,
   "id": "ec65b7db",
   "metadata": {},
   "outputs": [
    {
     "data": {
      "text/plain": [
       "610"
      ]
     },
     "execution_count": 9,
     "metadata": {},
     "output_type": "execute_result"
    }
   ],
   "source": [
    "10+20*30"
   ]
  },
  {
   "cell_type": "markdown",
   "id": "a29d586d",
   "metadata": {},
   "source": []
  },
  {
   "cell_type": "code",
   "execution_count": 10,
   "id": "c7350caf",
   "metadata": {},
   "outputs": [
    {
     "data": {
      "text/plain": [
       "0.5333333333333333"
      ]
     },
     "execution_count": 10,
     "metadata": {},
     "output_type": "execute_result"
    }
   ],
   "source": [
    "4**2/30"
   ]
  },
  {
   "cell_type": "code",
   "execution_count": 11,
   "id": "89c6f08c",
   "metadata": {},
   "outputs": [
    {
     "data": {
      "text/plain": [
       "575"
      ]
     },
     "execution_count": 11,
     "metadata": {},
     "output_type": "execute_result"
    }
   ],
   "source": [
    "(94+2)*6-1"
   ]
  },
  {
   "cell_type": "code",
   "execution_count": 12,
   "id": "5698e2fa",
   "metadata": {},
   "outputs": [
    {
     "data": {
      "text/plain": [
       "107"
      ]
     },
     "execution_count": 12,
     "metadata": {},
     "output_type": "execute_result"
    }
   ],
   "source": [
    "((10+8)*(10-4))-1"
   ]
  },
  {
   "cell_type": "code",
   "execution_count": 22,
   "id": "3b8d427e",
   "metadata": {},
   "outputs": [
    {
     "data": {
      "text/plain": [
       "3958558598.259001"
      ]
     },
     "execution_count": 22,
     "metadata": {},
     "output_type": "execute_result"
    }
   ],
   "source": [
    "(1500+((100-9)/10)*9)**3"
   ]
  },
  {
   "cell_type": "code",
   "execution_count": 23,
   "id": "d2b2192f",
   "metadata": {},
   "outputs": [
    {
     "data": {
      "text/plain": [
       "81.0"
      ]
     },
     "execution_count": 23,
     "metadata": {},
     "output_type": "execute_result"
    }
   ],
   "source": [
    "10%3*10**2+1-10*4/2"
   ]
  },
  {
   "cell_type": "code",
   "execution_count": 25,
   "id": "6ce3bca3",
   "metadata": {},
   "outputs": [
    {
     "name": "stdout",
     "output_type": "stream",
     "text": [
      "1575.0\n"
     ]
    }
   ],
   "source": [
    "salario = 1500 #(1)\n",
    "aumento = 5 #(2)\n",
    "print(salario + (salario * aumento/100)) #(3)"
   ]
  },
  {
   "cell_type": "code",
   "execution_count": 26,
   "id": "3f783d01",
   "metadata": {},
   "outputs": [
    {
     "name": "stdout",
     "output_type": "stream",
     "text": [
      "Marina Pinheiro\n"
     ]
    }
   ],
   "source": [
    "print(\"Marina Pinheiro\")"
   ]
  },
  {
   "cell_type": "code",
   "execution_count": 27,
   "id": "7fccc6c0",
   "metadata": {},
   "outputs": [
    {
     "name": "stdout",
     "output_type": "stream",
     "text": [
      "O resultado a seguir da expresão 2a x 3b, onde a vale 3 e b vale 5 é: \n"
     ]
    },
    {
     "data": {
      "text/plain": [
       "90"
      ]
     },
     "execution_count": 27,
     "metadata": {},
     "output_type": "execute_result"
    }
   ],
   "source": [
    "a= 3 #(1)\n",
    "b= 5 #(2)\n",
    "print(\"O resultado a seguir da expresão 2a x 3b, onde a vale 3 e b vale 5 é: \") #(3)\n",
    "(2*a) * (3*b) #(4)\n",
    "\n",
    "\n"
   ]
  },
  {
   "cell_type": "code",
   "execution_count": 28,
   "id": "77d6bb8d",
   "metadata": {},
   "outputs": [
    {
     "name": "stdout",
     "output_type": "stream",
     "text": [
      "862.5\n"
     ]
    }
   ],
   "source": [
    "salario = 750 #(1)\n",
    "aumento = 15 #(2)\n",
    "print(salario + (salario * aumento/100)) #(3)"
   ]
  },
  {
   "cell_type": "code",
   "execution_count": 30,
   "id": "353df2e9",
   "metadata": {},
   "outputs": [
    {
     "name": "stdout",
     "output_type": "stream",
     "text": [
      "A soma dos três valores é: \n"
     ]
    },
    {
     "data": {
      "text/plain": [
       "19.5"
      ]
     },
     "execution_count": 30,
     "metadata": {},
     "output_type": "execute_result"
    }
   ],
   "source": [
    "a= 7\n",
    "b= 7\n",
    "c=5.5\n",
    "\n",
    "print(\"A soma dos três valores é: \") \n",
    "\n",
    "a+b+c"
   ]
  },
  {
   "cell_type": "code",
   "execution_count": 34,
   "id": "c6d03bb5",
   "metadata": {},
   "outputs": [
    {
     "name": "stdout",
     "output_type": "stream",
     "text": [
      "O valor do valor em metros para cm é: \n"
     ]
    },
    {
     "data": {
      "text/plain": [
       "200"
      ]
     },
     "execution_count": 34,
     "metadata": {},
     "output_type": "execute_result"
    }
   ],
   "source": [
    "metros = 2\n",
    "cm = 100\n",
    "\n",
    "print(\"O valor do valor em metros para cm é: \")\n",
    "\n",
    "metros * cm "
   ]
  },
  {
   "cell_type": "code",
   "execution_count": null,
   "id": "452fad03",
   "metadata": {},
   "outputs": [],
   "source": []
  }
 ],
 "metadata": {
  "kernelspec": {
   "display_name": "Python 3 (ipykernel)",
   "language": "python",
   "name": "python3"
  },
  "language_info": {
   "codemirror_mode": {
    "name": "ipython",
    "version": 3
   },
   "file_extension": ".py",
   "mimetype": "text/x-python",
   "name": "python",
   "nbconvert_exporter": "python",
   "pygments_lexer": "ipython3",
   "version": "3.9.7"
  }
 },
 "nbformat": 4,
 "nbformat_minor": 5
}
